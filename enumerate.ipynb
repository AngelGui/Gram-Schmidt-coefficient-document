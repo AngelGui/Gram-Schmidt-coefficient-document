{
  "nbformat": 4,
  "nbformat_minor": 0,
  "metadata": {
    "colab": {
      "provenance": [],
      "authorship_tag": "ABX9TyMrvu6fWTtvCrrZ5AMcaHql",
      "include_colab_link": true
    },
    "kernelspec": {
      "name": "python3",
      "display_name": "Python 3"
    },
    "language_info": {
      "name": "python"
    }
  },
  "cells": [
    {
      "cell_type": "markdown",
      "metadata": {
        "id": "view-in-github",
        "colab_type": "text"
      },
      "source": [
        "<a href=\"https://colab.research.google.com/github/AngelGui/Gram-Schmidt-coefficient-document/blob/main/enumerate.ipynb\" target=\"_parent\"><img src=\"https://colab.research.google.com/assets/colab-badge.svg\" alt=\"Open In Colab\"/></a>"
      ]
    },
    {
      "cell_type": "code",
      "execution_count": null,
      "metadata": {
        "colab": {
          "base_uri": "https://localhost:8080/"
        },
        "id": "Ta18twXtXaL8",
        "outputId": "294a385a-9e53-4026-82ee-d5b015cd684d"
      },
      "outputs": [
        {
          "output_type": "stream",
          "name": "stdout",
          "text": [
            "True\n",
            "11126688\n",
            "11126720\n",
            "11126752\n",
            "11126688\n",
            "11126720\n",
            "11126784\n"
          ]
        }
      ],
      "source": [
        "a = [1,2,3]\n",
        "b = [1,2,4]\n",
        "print(id(a[1])==id(b[1]))\n",
        "print(id(a[0]))\n",
        "print(id(a[1]))\n",
        "print(id(a[2]))\n",
        "print(id(b[0]))\n",
        "print(id(b[1]))\n",
        "print(id(b[2]))"
      ]
    },
    {
      "cell_type": "code",
      "source": [
        "a = [index for index, value in enumerate([3,5,7,3,7]) if value == max([3,5,7,3,7])]\n",
        "print(a)"
      ],
      "metadata": {
        "colab": {
          "base_uri": "https://localhost:8080/"
        },
        "id": "mbMGqSXTX_VG",
        "outputId": "3fed2082-3104-4d48-bda5-c99eda940d3e"
      },
      "execution_count": null,
      "outputs": [
        {
          "output_type": "stream",
          "name": "stdout",
          "text": [
            "[2, 4]\n"
          ]
        }
      ]
    },
    {
      "cell_type": "code",
      "source": [
        "aa = 1.0\n",
        "bb = 1.0\n",
        "print(id(aa))\n",
        "print(id(bb))"
      ],
      "metadata": {
        "colab": {
          "base_uri": "https://localhost:8080/"
        },
        "id": "uRO7loKjZSh2",
        "outputId": "beb78bc9-4f1b-4bf0-aba9-fc4b839a99af"
      },
      "execution_count": null,
      "outputs": [
        {
          "output_type": "stream",
          "name": "stdout",
          "text": [
            "139635253209520\n",
            "139635253210064\n"
          ]
        }
      ]
    }
  ]
}